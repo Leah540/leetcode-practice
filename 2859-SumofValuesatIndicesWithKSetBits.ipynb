{
 "cells": [
  {
   "cell_type": "markdown",
   "metadata": {},
   "source": [
    "# [2859. Sum of Values at Indices With K Set Bits](https://leetcode.com/problems/left-and-right-sum-differences/description/)\n",
    "\n",
    "You are given a **0-indexed** integer array `nums` and an integer `k`.\n",
    "\n",
    "Return *an integer that denotes the **sum** of elements in* `nums` *whose corresponding **indices** have **exactly** *`k` *set bits in their binary representation*.\n",
    "\n",
    "The **set bits** in an integer are the `1`'s present when it is written in binary.\n",
    "\n",
    "- For example, the binary representation of `21` is `10101`, which has `3` set bits.\n",
    " \n",
    "\n",
    "**Example 1:**\n",
    "\n",
    "> **Input:** nums = [5,10,1,5,2], k = 1 <br>\n",
    " **Output:** 13 <br>\n",
    " **Explanation:** The binary representation of the indices are:  <br>\n",
    " 0 = 0002 <br>\n",
    " 1 = 0012 <br>\n",
    " 2 = 0102 <br>\n",
    " 3 = 0112 <br>\n",
    " 4 = 1002  <br>\n",
    " Indices 1, 2, and 4 have k = 1 set bits in their binary representation. <br>\n",
    " Hence, the answer is nums[1] + nums[2] + nums[4] = 13.\n",
    "\n",
    "\n",
    "**Example 2:**\n",
    "\n",
    "> **Input:** nums = [4,3,2,1], k = 2 <br>\n",
    " **Output:** 1 <br>\n",
    " **Explanation:** The binary representation of the indices are: <br>\n",
    " 0 = 002 <br>\n",
    " 1 = 012 <br>\n",
    " 2 = 102 <br>\n",
    " 3 = 112 <br>\n",
    " Only index 3 has k = 2 set bits in its binary representation. <br>\n",
    " Hence, the answer is nums[3] = 1.\n",
    " \n",
    "\n",
    "**Constraints:**\n",
    "\n",
    "- `1 <= nums.length <= 1000`\n",
    "- `1 <= nums[i] <= 105`\n",
    "- `0 <= k <= 10`"
   ]
  },
  {
   "cell_type": "code",
   "execution_count": 2,
   "metadata": {},
   "outputs": [],
   "source": [
    "from typing import List"
   ]
  },
  {
   "cell_type": "code",
   "execution_count": 3,
   "metadata": {},
   "outputs": [],
   "source": [
    "class Solution:\n",
    "    def sumIndicesWithKSetBits(self, nums: List[int], k: int) -> int:\n",
    "        sum = 0\n",
    "        for i in range(len(nums)):\n",
    "            if bin(i).count('1')==k:\n",
    "                sum += nums[i]\n",
    "        \n",
    "        return sum"
   ]
  },
  {
   "cell_type": "code",
   "execution_count": 6,
   "metadata": {},
   "outputs": [
    {
     "data": {
      "text/plain": [
       "13"
      ]
     },
     "execution_count": 6,
     "metadata": {},
     "output_type": "execute_result"
    }
   ],
   "source": [
    "nums = [5,10,1,5,2]\n",
    "k = 1\n",
    "\n",
    "Solution().sumIndicesWithKSetBits(nums, k)"
   ]
  },
  {
   "cell_type": "code",
   "execution_count": 7,
   "metadata": {},
   "outputs": [
    {
     "data": {
      "text/plain": [
       "1"
      ]
     },
     "execution_count": 7,
     "metadata": {},
     "output_type": "execute_result"
    }
   ],
   "source": [
    "nums = [4,3,2,1]\n",
    "k = 2\n",
    "\n",
    "Solution().sumIndicesWithKSetBits(nums, k)"
   ]
  },
  {
   "cell_type": "code",
   "execution_count": null,
   "metadata": {},
   "outputs": [],
   "source": []
  }
 ],
 "metadata": {
  "kernelspec": {
   "display_name": "base",
   "language": "python",
   "name": "python3"
  },
  "language_info": {
   "codemirror_mode": {
    "name": "ipython",
    "version": 3
   },
   "file_extension": ".py",
   "mimetype": "text/x-python",
   "name": "python",
   "nbconvert_exporter": "python",
   "pygments_lexer": "ipython3",
   "version": "3.8.8"
  }
 },
 "nbformat": 4,
 "nbformat_minor": 2
}
