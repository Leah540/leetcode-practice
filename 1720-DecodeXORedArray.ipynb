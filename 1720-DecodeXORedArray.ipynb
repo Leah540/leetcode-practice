{
 "cells": [
  {
   "cell_type": "markdown",
   "metadata": {},
   "source": [
    "# [1720. Decode XORed Array](https://leetcode.com/problems/decode-xored-array/description/)\n",
    "\n",
    "There is a **hidden** integer array `arr` that consists of `n` non-negative integers.\n",
    "\n",
    "It was encoded into another integer array `encoded` of length `n - 1`, such that `encoded[i] = arr[i] XOR arr[i + 1]`. For example, if `arr = [1,0,2,1]`, then `encoded = [1,2,3]`.\n",
    "\n",
    "You are given the `encoded` array. You are also given an integer `first`, that is the first element of `arr`, i.e. `arr[0]`.\n",
    "\n",
    "Return *the original array* `arr`. It can be proved that the answer exists and is unique.\n",
    "\n",
    " \n",
    "\n",
    "**Example 1:**\n",
    "\n",
    "> **Input:** encoded = [1,2,3], first = 1 <br>\n",
    " **Output:** [1,0,2,1] <br>\n",
    " **Explanation:** If arr = [1,0,2,1], then first = 1 and encoded = [1 XOR 0, 0 XOR 2, 2 XOR 1] = [1,2,3]\n",
    "\n",
    "\n",
    "**Example 2:**\n",
    "\n",
    "> **Input:** encoded = [6,2,7,3], first = 4 <br>\n",
    " **Output:** [4,2,0,7,4]\n",
    " \n",
    "\n",
    "**Constraints:**\n",
    "\n",
    "- `2 <= n <= 104`\n",
    "- `encoded.length == n - 1`\n",
    "- `0 <= encoded[i] <= 105`\n",
    "- `0 <= first <= 105`"
   ]
  },
  {
   "cell_type": "code",
   "execution_count": 1,
   "metadata": {},
   "outputs": [],
   "source": [
    "from typing import List"
   ]
  },
  {
   "cell_type": "code",
   "execution_count": 2,
   "metadata": {},
   "outputs": [],
   "source": [
    "class Solution:\n",
    "    def decode(self, encoded: List[int], first: int) -> List[int]:\n",
    "        result = [first]\n",
    "        for i in encoded:\n",
    "            first ^= i\n",
    "            result.append(first)\n",
    "        \n",
    "        return result"
   ]
  },
  {
   "cell_type": "code",
   "execution_count": 3,
   "metadata": {},
   "outputs": [
    {
     "data": {
      "text/plain": [
       "[1, 0, 2, 1]"
      ]
     },
     "execution_count": 3,
     "metadata": {},
     "output_type": "execute_result"
    }
   ],
   "source": [
    "encoded = [1,2,3]\n",
    "first = 1\n",
    "\n",
    "Solution().decode(encoded, first)"
   ]
  },
  {
   "cell_type": "code",
   "execution_count": 4,
   "metadata": {},
   "outputs": [
    {
     "data": {
      "text/plain": [
       "[4, 2, 0, 7, 4]"
      ]
     },
     "execution_count": 4,
     "metadata": {},
     "output_type": "execute_result"
    }
   ],
   "source": [
    "encoded = [6,2,7,3]\n",
    "first = 4\n",
    "\n",
    "Solution().decode(encoded, first)"
   ]
  },
  {
   "cell_type": "code",
   "execution_count": null,
   "metadata": {},
   "outputs": [],
   "source": []
  }
 ],
 "metadata": {
  "kernelspec": {
   "display_name": "base",
   "language": "python",
   "name": "python3"
  },
  "language_info": {
   "codemirror_mode": {
    "name": "ipython",
    "version": 3
   },
   "file_extension": ".py",
   "mimetype": "text/x-python",
   "name": "python",
   "nbconvert_exporter": "python",
   "pygments_lexer": "ipython3",
   "version": "3.8.8"
  }
 },
 "nbformat": 4,
 "nbformat_minor": 2
}
