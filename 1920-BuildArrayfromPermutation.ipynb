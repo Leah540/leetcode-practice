{
 "cells": [
  {
   "cell_type": "markdown",
   "metadata": {},
   "source": [
    "# [1920. Build Array from Permutation](https://leetcode.com/problems/build-array-from-permutation/description/)\n",
    "Given a **zero-based permutation** `nums` **(0-indexed)**, build an array `ans` of the **same length** where `ans[i] = nums[nums[i]]` for each `0 <= i < nums.length` and return it.\n",
    "\n",
    "A **zero-based permutation** `nums` is an array of **distinct** integers from `0` to `nums.length - 1` (**inclusive**).\n",
    "\n",
    " \n",
    "\n",
    "**Example 1:**\n",
    "\n",
    "> **Input:** nums = [0,2,1,5,3,4] <br>\n",
    "> **Output:** [0,1,2,4,5,3] <br>\n",
    "> **Explanation:** The array ans is built as follows: \n",
    "ans = [nums[nums[0]], nums[nums[1]], nums[nums[2]], nums[nums[3]], nums[nums[4]], nums[nums[5]]]\n",
    "    = [nums[0], nums[2], nums[1], nums[5], nums[3], nums[4]]\n",
    "    = [0,1,2,4,5,3]\n",
    "\n",
    "\n",
    "**Example 2:**\n",
    "\n",
    "> **Input:** nums = [5,0,1,2,3,4] <br>\n",
    "> **Output:** [4,5,0,1,2,3] <br>\n",
    "> **Explanation:** The array ans is built as follows:\n",
    "ans = [nums[nums[0]], nums[nums[1]], nums[nums[2]], nums[nums[3]], nums[nums[4]], nums[nums[5]]]\n",
    "    = [nums[5], nums[0], nums[1], nums[2], nums[3], nums[4]]\n",
    "    = [4,5,0,1,2,3]\n",
    " \n",
    "\n",
    "**Constraints:**\n",
    "\n",
    "- `1 <= nums.length <= 1000`\n",
    "- `0 <= nums[i] < nums.length`\n",
    "- The elements in `nums` are **distinct**.\n",
    " \n",
    "\n",
    "**Follow-up:** Can you solve it without using an extra space (i.e., `O(1)` memory)?"
   ]
  },
  {
   "cell_type": "code",
   "execution_count": 7,
   "metadata": {},
   "outputs": [],
   "source": [
    "from typing import List"
   ]
  },
  {
   "cell_type": "code",
   "execution_count": 2,
   "metadata": {},
   "outputs": [],
   "source": [
    "# Using Loop \n",
    "class Solution(object):\n",
    "    def buildArray(self, nums):\n",
    "        \"\"\"\n",
    "        :type nums: List[int]\n",
    "        :rtype: List[int]\n",
    "        \"\"\"\n",
    "        result = [nums[i] for i in nums]\n",
    "        return result\n",
    "        # return [nums[i] for i in nums] #在業界可以這樣寫嗎？"
   ]
  },
  {
   "cell_type": "markdown",
   "metadata": {},
   "source": [
    "[Another Solutions](https://leetcode.com/problems/build-array-from-permutation/solutions/1315926/python-o-n-time-o-1-space-w-full-explanation/)"
   ]
  },
  {
   "cell_type": "code",
   "execution_count": 5,
   "metadata": {},
   "outputs": [],
   "source": [
    "# Arithmetic Conversion\n",
    "class Solution(object):\n",
    "    def buildArray(self, nums):\n",
    "        \"\"\"\n",
    "        :type nums: List[int]\n",
    "        :rtype: List[int]\n",
    "        \"\"\"\n",
    "        q = len(nums)\n",
    "        for i in range(len(nums)):\n",
    "            r = nums[i]\n",
    "            b = nums[nums[i]] % q\n",
    "            nums[i] = q*b + r\n",
    "\n",
    "        for i in range(len(nums)):\n",
    "            nums[i] = nums[i] // q\n",
    "        \n",
    "        return nums\n"
   ]
  },
  {
   "cell_type": "code",
   "execution_count": 6,
   "metadata": {},
   "outputs": [
    {
     "data": {
      "text/plain": [
       "[0, 1, 2, 4, 5, 3]"
      ]
     },
     "execution_count": 6,
     "metadata": {},
     "output_type": "execute_result"
    }
   ],
   "source": [
    "nums = [0,2,1,5,3,4]\n",
    "Solution().buildArray(nums)"
   ]
  },
  {
   "cell_type": "code",
   "execution_count": 4,
   "metadata": {},
   "outputs": [
    {
     "data": {
      "text/plain": [
       "[4, 5, 0, 1, 2, 3]"
      ]
     },
     "execution_count": 4,
     "metadata": {},
     "output_type": "execute_result"
    }
   ],
   "source": [
    "nums = [5,0,1,2,3,4]\n",
    "Solution().buildArray(nums)"
   ]
  }
 ],
 "metadata": {
  "kernelspec": {
   "display_name": "base",
   "language": "python",
   "name": "python3"
  },
  "language_info": {
   "codemirror_mode": {
    "name": "ipython",
    "version": 3
   },
   "file_extension": ".py",
   "mimetype": "text/x-python",
   "name": "python",
   "nbconvert_exporter": "python",
   "pygments_lexer": "ipython3",
   "version": "3.8.-1"
  }
 },
 "nbformat": 4,
 "nbformat_minor": 2
}
