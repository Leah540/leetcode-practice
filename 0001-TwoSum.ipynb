{
 "cells": [
  {
   "cell_type": "markdown",
   "metadata": {},
   "source": [
    "# 1. Two Sum\n",
    "\n",
    "Given an array of integers `nums` and an integer `target`, return *indices of the two numbers such that they add up to `target`*.\n",
    "\n",
    "You may assume that each input would have exactly one solution, and you may not use the same element twice.\n",
    "\n",
    "You can return the answer in any order.\n",
    "\n",
    " \n",
    "\n",
    "**Example 1:**\n",
    "\n",
    "> **Input:** nums = [2,7,11,15], target = 9 <br>\n",
    "> **Output:** [0,1] <br>\n",
    "> **Explanation:** Because nums[0] + nums[1] == 9, we return [0, 1].\n",
    "\n",
    "**Example 2:**\n",
    "\n",
    "> **Input:** nums = [3,2,4], target = 6<br>\n",
    "> **Output:** [1,2]\n",
    "\n",
    "**Example 3:**\n",
    "\n",
    "> **Input:** nums = [3,3], target = 6<br>\n",
    "> **Output:** [0,1]\n",
    "\n",
    "**Constraints:**\n",
    "\n",
    "- $2$ <= `nums.length` <= $10^4$\n",
    "- $10^9$ <= `nums[i]` <= $10^9$\n",
    "- $-109$ <= `target` <= $10^9$\n",
    "- **Only one valid answer exists.**\n",
    " \n",
    "\n",
    "**Follow-up:** Can you come up with an algorithm that is less than $O(n^2)$ time complexity?"
   ]
  },
  {
   "cell_type": "code",
   "execution_count": 1,
   "metadata": {},
   "outputs": [],
   "source": [
    "from typing import List"
   ]
  },
  {
   "cell_type": "code",
   "execution_count": 2,
   "metadata": {},
   "outputs": [],
   "source": [
    "class Solution:\n",
    "    def twoSum(self, nums: List[int], target: int) -> List[int]:\n",
    "        hashdict = {}\n",
    "        for i, j in enumerate(nums):\n",
    "            if (target-j) in hashdict:\n",
    "                # print([hashdict[target-j], i])\n",
    "                return [hashdict[target-j], i]\n",
    "            hashdict[j] = i"
   ]
  },
  {
   "cell_type": "code",
   "execution_count": 3,
   "metadata": {},
   "outputs": [
    {
     "data": {
      "text/plain": [
       "[0, 1]"
      ]
     },
     "execution_count": 3,
     "metadata": {},
     "output_type": "execute_result"
    }
   ],
   "source": [
    "nums = [2, 7, 11, 15]\n",
    "target = 9\n",
    "a = Solution()\n",
    "a.twoSum(nums, target)"
   ]
  }
 ],
 "metadata": {
  "kernelspec": {
   "display_name": "base",
   "language": "python",
   "name": "python3"
  },
  "language_info": {
   "codemirror_mode": {
    "name": "ipython",
    "version": 3
   },
   "file_extension": ".py",
   "mimetype": "text/x-python",
   "name": "python",
   "nbconvert_exporter": "python",
   "pygments_lexer": "ipython3",
   "version": "3.8.8"
  },
  "orig_nbformat": 4
 },
 "nbformat": 4,
 "nbformat_minor": 2
}
