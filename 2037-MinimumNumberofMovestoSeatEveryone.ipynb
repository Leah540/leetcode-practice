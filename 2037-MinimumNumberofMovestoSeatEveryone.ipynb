{
 "cells": [
  {
   "cell_type": "markdown",
   "metadata": {},
   "source": [
    "# [2037. Minimum Number of Moves to Seat Everyone](https://leetcode.com/problems/minimum-number-of-moves-to-seat-everyone/description/)\n",
    "\n",
    "There are `n` availabe seats and `n` students standing in a room. You are given an array `seats` of length `n`, where `seats[i]` is the position of the `ith` seat. You are also given the array `students` of length `n`, where `students[j]` is the position of the `jth` student.\n",
    "\n",
    "You may perform the following move any number of times:\n",
    "\n",
    "- Increase or decrease the position of the `ith` student by `1` (i.e., moving the ith student from position x to x + 1 or x - 1)\n",
    "Return the ** *minimum number of moves* required to move each student to a seat such that no two students are in the same seat.**\n",
    "\n",
    "Note that there may be **multiple** seats or students in the **same** position at the beginning.\n",
    "\n",
    " \n",
    "\n",
    "**Example 1:**\n",
    "\n",
    "> **Input:** seats = [3,1,5], students = [2,7,4] <br>\n",
    " **Output:** 4 <br>\n",
    " **Explanation:** The students are moved as follows: <br>\n",
    " - The first student is moved from from position 2 to position 1 using 1 move.\n",
    " - The second student is moved from from position 7 to position 5 using 2 moves.\n",
    " - The third student is moved from from position 4 to position 3 using 1 move.\n",
    " In total, 1 + 2 + 1 = 4 moves were used.\n",
    "\n",
    "\n",
    "**Example 2:**\n",
    "\n",
    "> Input: seats = [4,1,5,9], students = [1,3,2,6] <br>\n",
    "> Output: 7 <br>\n",
    "> Explanation: The students are moved as follows: <br>\n",
    "- The first student is not moved.\n",
    "- The second student is moved from from position 3 to position 4 using 1 move.\n",
    "- The third student is moved from from position 2 to position 5 using 3 moves.\n",
    "- The fourth student is moved from from position 6 to position 9 using 3 moves.\n",
    "In total, 0 + 1 + 3 + 3 = 7 moves were used.\n",
    "\n",
    "\n",
    "**Example 3:**\n",
    "\n",
    "> **Input:** seats = [2,2,6,6], students = [1,3,2,6] <br>\n",
    " **Output:** 4 <br>\n",
    " **Explanation:** Note that there are two seats at position 2 and two seats at position 6. <br>\n",
    " The students are moved as follows:\n",
    " - The first student is moved from from position 1 to position 2 using 1 move.\n",
    " - The second student is moved from from position 3 to position 6 using 3 moves.\n",
    " - The third student is not moved.\n",
    " - The fourth student is not moved.\n",
    " In total, 1 + 3 + 0 + 0 = 4 moves were used.\n",
    " \n",
    "\n",
    "**Constraints:**\n",
    "\n",
    "- `n == seats.length == students.length`\n",
    "- `1 <= n <= 100`\n",
    "- `1 <= seats[i], students[j] <= 100`"
   ]
  },
  {
   "cell_type": "code",
   "execution_count": 2,
   "metadata": {},
   "outputs": [],
   "source": [
    "from typing import List"
   ]
  },
  {
   "cell_type": "code",
   "execution_count": 3,
   "metadata": {},
   "outputs": [],
   "source": [
    "class Solution:\n",
    "    def minMovesToSeat(self, seats: List[int], students: List[int]) -> int:\n",
    "        result = 0\n",
    "        seats = sorted(seats)\n",
    "        students = sorted(students)\n",
    "        for i in range(len(seats)):\n",
    "            result += abs(seats[i]-students[i])\n",
    "        return result"
   ]
  },
  {
   "cell_type": "code",
   "execution_count": 4,
   "metadata": {},
   "outputs": [
    {
     "data": {
      "text/plain": [
       "4"
      ]
     },
     "execution_count": 4,
     "metadata": {},
     "output_type": "execute_result"
    }
   ],
   "source": [
    "seats = [3,1,5]\n",
    "students = [2,7,4]\n",
    "\n",
    "Solution().minMovesToSeat(seats, students)"
   ]
  },
  {
   "cell_type": "code",
   "execution_count": 5,
   "metadata": {},
   "outputs": [
    {
     "data": {
      "text/plain": [
       "7"
      ]
     },
     "execution_count": 5,
     "metadata": {},
     "output_type": "execute_result"
    }
   ],
   "source": [
    "seats = [4,1,5,9]\n",
    "students = [1,3,2,6]\n",
    "\n",
    "Solution().minMovesToSeat(seats, students)"
   ]
  },
  {
   "cell_type": "code",
   "execution_count": 6,
   "metadata": {},
   "outputs": [
    {
     "data": {
      "text/plain": [
       "4"
      ]
     },
     "execution_count": 6,
     "metadata": {},
     "output_type": "execute_result"
    }
   ],
   "source": [
    "seats = [2,2,6,6]\n",
    "students = [1,3,2,6]\n",
    "\n",
    "Solution().minMovesToSeat(seats, students)"
   ]
  },
  {
   "cell_type": "code",
   "execution_count": null,
   "metadata": {},
   "outputs": [],
   "source": []
  }
 ],
 "metadata": {
  "kernelspec": {
   "display_name": "base",
   "language": "python",
   "name": "python3"
  },
  "language_info": {
   "codemirror_mode": {
    "name": "ipython",
    "version": 3
   },
   "file_extension": ".py",
   "mimetype": "text/x-python",
   "name": "python",
   "nbconvert_exporter": "python",
   "pygments_lexer": "ipython3",
   "version": "3.8.8"
  }
 },
 "nbformat": 4,
 "nbformat_minor": 2
}
