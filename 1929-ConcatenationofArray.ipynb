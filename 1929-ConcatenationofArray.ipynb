{
 "cells": [
  {
   "cell_type": "markdown",
   "metadata": {},
   "source": [
    "# [1929. Concatenation of Array](https://leetcode.com/problems/concatenation-of-array/description/)\n",
    "Given an integer array `nums` of length `n`, you want to create an array `ans` of length `2n` where `ans[i] == nums[i]` and `ans[i + n] == nums[i]` for `0 <= i < n` (0-indexed).\n",
    "\n",
    "Specifically, `ans` is the concatenation of two `nums` arrays.\n",
    "\n",
    "Return the array `ans`.\n",
    "\n",
    " \n",
    "\n",
    "**Example 1:**\n",
    "\n",
    "> **Input:** nums = [1,2,1] <br>\n",
    "> **Output:** [1,2,1,1,2,1] <br>\n",
    "> **Explanation:** The array ans is formed as follows: <br>\n",
    "> - ans = [nums[0],nums[1],nums[2],nums[0],nums[1],nums[2]]\n",
    "> - ans = [1,2,1,1,2,1] \n",
    "\n",
    "\n",
    "**Example 2:**\n",
    "\n",
    "> **Input:** nums = [1,3,2,1] <br>\n",
    "> **Output:** [1,3,2,1,1,3,2,1] <br>\n",
    "> **Explanation:** The array ans is formed as follows: <br>\n",
    "> - ans = [nums[0],nums[1],nums[2],nums[3],nums[0],nums[1],nums[2],nums[3]]\n",
    "> - ans = [1,3,2,1,1,3,2,1]\n",
    " \n",
    "\n",
    "**Constraints:**\n",
    "\n",
    "- n == nums.length\n",
    "- 1 <= n <= 1000\n",
    "- 1 <= nums[i] <= 1000"
   ]
  },
  {
   "cell_type": "code",
   "execution_count": 7,
   "metadata": {},
   "outputs": [],
   "source": [
    "from typing import List"
   ]
  },
  {
   "cell_type": "code",
   "execution_count": 8,
   "metadata": {},
   "outputs": [],
   "source": [
    "# Using Extend Method\n",
    "class Solution:\n",
    "    def getConcatenation(self, nums: List[int]) -> List[int]:\n",
    "        nums.extend(nums)\n",
    "        return nums"
   ]
  },
  {
   "cell_type": "code",
   "execution_count": 20,
   "metadata": {},
   "outputs": [],
   "source": [
    "# Using Loop and Changing Element Value\n",
    "class Solution:\n",
    "    def getConcatenation(self, nums: List[int]) -> List[int]:\n",
    "        n = len(nums)\n",
    "        result = [None] * 2 * n\n",
    "        for i in range(n):\n",
    "            result[i] = nums[i]\n",
    "            result[i + n] = nums[i]\n",
    "        return result"
   ]
  },
  {
   "cell_type": "code",
   "execution_count": 19,
   "metadata": {},
   "outputs": [
    {
     "data": {
      "text/plain": [
       "[1, 2, 1, 1, 2, 1]"
      ]
     },
     "execution_count": 19,
     "metadata": {},
     "output_type": "execute_result"
    }
   ],
   "source": [
    "nums = [1, 2, 1]\n",
    "Solution().getConcatenation(nums)"
   ]
  },
  {
   "cell_type": "code",
   "execution_count": 15,
   "metadata": {},
   "outputs": [
    {
     "data": {
      "text/plain": [
       "[1, 3, 2, 1, 1, 3, 2, 1]"
      ]
     },
     "execution_count": 15,
     "metadata": {},
     "output_type": "execute_result"
    }
   ],
   "source": [
    "nums = [1, 3, 2, 1]\n",
    "Solution().getConcatenation(nums)"
   ]
  }
 ],
 "metadata": {
  "kernelspec": {
   "display_name": "base",
   "language": "python",
   "name": "python3"
  },
  "language_info": {
   "codemirror_mode": {
    "name": "ipython",
    "version": 3
   },
   "file_extension": ".py",
   "mimetype": "text/x-python",
   "name": "python",
   "nbconvert_exporter": "python",
   "pygments_lexer": "ipython3",
   "version": "3.8.8"
  }
 },
 "nbformat": 4,
 "nbformat_minor": 2
}
