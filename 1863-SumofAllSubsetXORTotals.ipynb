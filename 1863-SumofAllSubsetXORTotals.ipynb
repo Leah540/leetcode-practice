{
 "cells": [
  {
   "cell_type": "markdown",
   "metadata": {},
   "source": [
    "# [1863. Sum of All Subset XOR Totals](https://leetcode.com/problems/sum-of-all-subset-xor-totals/description/)\n",
    "\n",
    "The `XOR total` of an array is defined as the bitwise `XOR` of **all its elements**, or `0` if the array is **empty**.\n",
    "\n",
    "- For example, the **XOR total** of the array `[2,5,6]` is `2 XOR 5 XOR 6 = 1`.\n",
    "\n",
    "Given an array `nums`, return *the **sum** of all **XOR totals** for every **subset** of* `nums`. \n",
    "\n",
    "**Note:** Subsets with the same elements should be counted **multiple** times.\n",
    "\n",
    "An array `a` is a **subset** of an array `b` if `a` can be obtained from `b` by deleting some (possibly zero) elements of `b`.\n",
    "\n",
    " \n",
    "\n",
    "**Example 1:**\n",
    "\n",
    "> **Input:** nums = [1,3] <br>\n",
    " **Output:** 6<br>\n",
    " **Explanation:** The 4 subsets of [1,3] are:<br>\n",
    " - The empty subset has an XOR total of 0.\n",
    " - [1] has an XOR total of 1.\n",
    " - [3] has an XOR total of 3.\n",
    " - [1,3] has an XOR total of 1 XOR 3 = 2.\n",
    " 0 + 1 + 3 + 2 = 6\n",
    "\n",
    "\n",
    "**Example 2:**\n",
    "\n",
    "> **Input:** nums = [5,1,6]<br>\n",
    " **Output:** 28<br>\n",
    " **Explanation:** The 8 subsets of [5,1,6] are:\n",
    " - The empty subset has an XOR total of 0.\n",
    " - [5] has an XOR total of 5.\n",
    " - [1] has an XOR total of 1.\n",
    " - [6] has an XOR total of 6.\n",
    " - [5,1] has an XOR total of 5 XOR 1 = 4.\n",
    " - [5,6] has an XOR total of 5 XOR 6 = 3.\n",
    " - [1,6] has an XOR total of 1 XOR 6 = 7.\n",
    " - [5,1,6] has an XOR total of 5 XOR 1 XOR 6 = 2.\n",
    " 0 + 5 + 1 + 6 + 4 + 3 + 7 + 2 = 28\n",
    "\n",
    "\n",
    "**Example 3:**\n",
    "\n",
    "> **Input:** nums = [3,4,5,6,7,8]<br>\n",
    " **Output:** 480<br>\n",
    " **Explanation:** The sum of all XOR totals for every subset is 480.\n",
    " \n",
    "\n",
    "**Constraints:**\n",
    "\n",
    "- `1 <= nums.length <= 12`\n",
    "- `1 <= nums[i] <= 20`"
   ]
  },
  {
   "cell_type": "code",
   "execution_count": null,
   "metadata": {},
   "outputs": [],
   "source": [
    "from typing import List\n",
    "from functools import reduce"
   ]
  },
  {
   "cell_type": "code",
   "execution_count": 1,
   "metadata": {},
   "outputs": [],
   "source": [
    "class Solution:\n",
    "    def subsetXORSum(self, nums: List[int]) -> int:\n",
    "        "
   ]
  },
  {
   "cell_type": "code",
   "execution_count": 2,
   "metadata": {},
   "outputs": [],
   "source": [
    "class Solution:\n",
    "    def subsetXORSum(self, nums: List[int]) -> int:\n",
    "        return (reduce(lambda x, y: x | y, nums)) << (len(nums) - 1)"
   ]
  },
  {
   "cell_type": "code",
   "execution_count": 3,
   "metadata": {},
   "outputs": [
    {
     "data": {
      "text/plain": [
       "1"
      ]
     },
     "execution_count": 3,
     "metadata": {},
     "output_type": "execute_result"
    }
   ],
   "source": [
    "operations = [\"--X\",\"X++\",\"X++\"]\n",
    "Solution().finalValueAfterOperations(operations)"
   ]
  },
  {
   "cell_type": "code",
   "execution_count": 4,
   "metadata": {},
   "outputs": [
    {
     "data": {
      "text/plain": [
       "3"
      ]
     },
     "execution_count": 4,
     "metadata": {},
     "output_type": "execute_result"
    }
   ],
   "source": [
    "operations = [\"++X\",\"++X\",\"X++\"]\n",
    "Solution().finalValueAfterOperations(operations)"
   ]
  },
  {
   "cell_type": "code",
   "execution_count": 5,
   "metadata": {},
   "outputs": [
    {
     "data": {
      "text/plain": [
       "0"
      ]
     },
     "execution_count": 5,
     "metadata": {},
     "output_type": "execute_result"
    }
   ],
   "source": [
    "operations = [\"X++\",\"++X\",\"--X\",\"X--\"]\n",
    "Solution().finalValueAfterOperations(operations)"
   ]
  },
  {
   "cell_type": "code",
   "execution_count": null,
   "metadata": {},
   "outputs": [],
   "source": []
  }
 ],
 "metadata": {
  "kernelspec": {
   "display_name": "base",
   "language": "python",
   "name": "python3"
  },
  "language_info": {
   "codemirror_mode": {
    "name": "ipython",
    "version": 3
   },
   "file_extension": ".py",
   "mimetype": "text/x-python",
   "name": "python",
   "nbconvert_exporter": "python",
   "pygments_lexer": "ipython3",
   "version": "3.8.-1"
  }
 },
 "nbformat": 4,
 "nbformat_minor": 2
}
