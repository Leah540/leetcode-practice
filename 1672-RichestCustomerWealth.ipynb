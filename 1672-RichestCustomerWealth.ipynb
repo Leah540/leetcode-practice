{
 "cells": [
  {
   "cell_type": "markdown",
   "metadata": {},
   "source": [
    "# [1672. Richest Customer Wealth](https://leetcode.com/problems/richest-customer-wealth/description/)\n",
    "\n",
    "You are given an `m x n` integer grid `accounts` where `accounts[i][j]` is the amount of money the `i​​​​​​​​​​​th`​​​​ customer has in the `j​​​​​​​​​​​th`​​​​ bank. Return the wealth that the richest customer has.\n",
    "\n",
    "A customer's **wealth** is the amount of money they have in all their bank accounts. The richest customer is the customer that has the maximum **wealth**.\n",
    "\n",
    " \n",
    "\n",
    "**Example 1:**\n",
    "\n",
    "\n",
    "> **Input:** accounts = [[1,2,3],[3,2,1]] <br>\n",
    " **Output:** 6<br>\n",
    " **Explanation:**<br>\n",
    " `1st customer has wealth = 1 + 2 + 3 = 6`<br>\n",
    " `2nd customer has wealth = 3 + 2 + 1 = 6`<br>\n",
    " Both customers are considered the richest with a wealth of 6 each, so return 6.\n",
    "\n",
    "\n",
    "**Example 2:**\n",
    "\n",
    "> **Input:** accounts = [[1,5],[7,3],[3,5]]<br>\n",
    " **Output:** 10<br>\n",
    " **Explanation:** <br>\n",
    " 1st customer has wealth = 6<br>\n",
    " 2nd customer has wealth = 10 <br>\n",
    " 3rd customer has wealth = 8<br>\n",
    " The 2nd customer is the richest with a wealth of 10.\n",
    "\n",
    "\n",
    "**Example 3:**\n",
    "\n",
    "> **Input:** accounts = [[2,8,7],[7,1,3],[1,9,5]]<br>\n",
    " **Output:** 17\n",
    " \n",
    "\n",
    "**Constraints:**\n",
    "\n",
    "- `m == accounts.length`\n",
    "- `n == accounts[i].length`\n",
    "- `1 <= m, n <= 50`\n",
    "- `1 <= accounts[i][j] <= 100`"
   ]
  },
  {
   "cell_type": "code",
   "execution_count": 1,
   "metadata": {},
   "outputs": [],
   "source": [
    "from typing import List"
   ]
  },
  {
   "cell_type": "code",
   "execution_count": 3,
   "metadata": {},
   "outputs": [],
   "source": [
    "class Solution:\n",
    "    def maximumWealth(self, accounts: List[List[int]]) -> int:\n",
    "        return max([sum(i) for i in accounts])"
   ]
  },
  {
   "cell_type": "code",
   "execution_count": 5,
   "metadata": {},
   "outputs": [
    {
     "data": {
      "text/plain": [
       "6"
      ]
     },
     "execution_count": 5,
     "metadata": {},
     "output_type": "execute_result"
    }
   ],
   "source": [
    "accounts = [[1,2,3],[3,2,1]]\n",
    "Solution().maximumWealth(accounts)"
   ]
  },
  {
   "cell_type": "code",
   "execution_count": 6,
   "metadata": {},
   "outputs": [
    {
     "data": {
      "text/plain": [
       "10"
      ]
     },
     "execution_count": 6,
     "metadata": {},
     "output_type": "execute_result"
    }
   ],
   "source": [
    "accounts = [[1,5],[7,3],[3,5]]\n",
    "Solution().maximumWealth(accounts)"
   ]
  },
  {
   "cell_type": "code",
   "execution_count": 7,
   "metadata": {},
   "outputs": [
    {
     "data": {
      "text/plain": [
       "17"
      ]
     },
     "execution_count": 7,
     "metadata": {},
     "output_type": "execute_result"
    }
   ],
   "source": [
    "accounts = [[2,8,7],[7,1,3],[1,9,5]]\n",
    "Solution().maximumWealth(accounts)"
   ]
  },
  {
   "cell_type": "code",
   "execution_count": null,
   "metadata": {},
   "outputs": [],
   "source": []
  }
 ],
 "metadata": {
  "kernelspec": {
   "display_name": "base",
   "language": "python",
   "name": "python3"
  },
  "language_info": {
   "codemirror_mode": {
    "name": "ipython",
    "version": 3
   },
   "file_extension": ".py",
   "mimetype": "text/x-python",
   "name": "python",
   "nbconvert_exporter": "python",
   "pygments_lexer": "ipython3",
   "version": "3.8.8"
  }
 },
 "nbformat": 4,
 "nbformat_minor": 2
}
