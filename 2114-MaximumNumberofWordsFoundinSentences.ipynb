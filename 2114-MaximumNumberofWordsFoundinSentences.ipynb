{
 "cells": [
  {
   "cell_type": "markdown",
   "metadata": {},
   "source": [
    "# [2114. Maximum Number of Words Found in Sentences](https://leetcode.com/problems/maximum-number-of-words-found-in-sentences/description/)\n",
    "\n",
    "A **sentence** is a list of **words** that are separated by a single space with no leading or trailing spaces.\n",
    "\n",
    "You are given an array of strings `sentences`, where each `sentences[i]` represents a single sentence.\n",
    "\n",
    "Return the * **maximum number** of words that appear in a single sentence*.\n",
    "\n",
    " \n",
    "\n",
    "**Example 1:**\n",
    "\n",
    "> **Input:** sentences = [\"alice and bob love leetcode\", \"i think so too\", \"this is great thanks very much\"] <br>\n",
    " **Output:** 6 <br>\n",
    " **Explanation:** \n",
    "> - The first sentence, \"alice and bob love leetcode\", has 5 words in total.\n",
    "> - The second sentence, \"i think so too\", has 4 words in total.\n",
    "> - The third sentence, \"this is great thanks very much\", has 6 words in total.\n",
    "Thus, the maximum number of words in a single sentence comes from the third sentence, which has 6 words.\n",
    "\n",
    "\n",
    "**Example 2:**\n",
    "\n",
    "> **Input:** sentences = [\"please wait\", \"continue to fight\", \"continue to win\"] <br>\n",
    " **Output:** 3 <br>\n",
    " **Explanation:** It is possible that multiple sentences contain the same number of words.  <br>\n",
    " In this example, the second and third sentences (underlined) have the same number of words.\n",
    " \n",
    "\n",
    "**Constraints:**\n",
    "\n",
    "- `1 <= sentences.length <= 100`\n",
    "- `1 <= sentences[i].length <= 100`\n",
    "- `sentences[i]` consists only of lowercase English letters and `' '` only.\n",
    "- `sentences[i]` does not have leading or trailing spaces.\n",
    "- All the words in `sentences[i]` are separated by a single space."
   ]
  },
  {
   "cell_type": "code",
   "execution_count": 1,
   "metadata": {},
   "outputs": [],
   "source": [
    "from typing import List"
   ]
  },
  {
   "cell_type": "code",
   "execution_count": 5,
   "metadata": {},
   "outputs": [],
   "source": [
    "class Solution:\n",
    "    def mostWordsFound(self, sentences: List[str]) -> int:\n",
    "        max_words = 0\n",
    "        for sentence in sentences:\n",
    "            max_words = max(max_words, len(sentence.split(' ')))\n",
    "        \n",
    "        return max_words"
   ]
  },
  {
   "cell_type": "code",
   "execution_count": 8,
   "metadata": {},
   "outputs": [],
   "source": [
    "class Solution:\n",
    "    def mostWordsFound(self, sentences: List[str]) -> int:\n",
    "        return max(sentence.count(' ')+1 for sentence in sentences)"
   ]
  },
  {
   "cell_type": "code",
   "execution_count": 9,
   "metadata": {},
   "outputs": [
    {
     "data": {
      "text/plain": [
       "6"
      ]
     },
     "execution_count": 9,
     "metadata": {},
     "output_type": "execute_result"
    }
   ],
   "source": [
    "sentences = [\"alice and bob love leetcode\", \"i think so too\", \"this is great thanks very much\"]\n",
    "\n",
    "Solution().mostWordsFound(sentences)"
   ]
  },
  {
   "cell_type": "code",
   "execution_count": 10,
   "metadata": {},
   "outputs": [
    {
     "data": {
      "text/plain": [
       "3"
      ]
     },
     "execution_count": 10,
     "metadata": {},
     "output_type": "execute_result"
    }
   ],
   "source": [
    "sentences = [\"please wait\", \"continue to fight\", \"continue to win\"]\n",
    "\n",
    "Solution().mostWordsFound(sentences)"
   ]
  },
  {
   "cell_type": "code",
   "execution_count": null,
   "metadata": {},
   "outputs": [],
   "source": []
  }
 ],
 "metadata": {
  "kernelspec": {
   "display_name": "base",
   "language": "python",
   "name": "python3"
  },
  "language_info": {
   "codemirror_mode": {
    "name": "ipython",
    "version": 3
   },
   "file_extension": ".py",
   "mimetype": "text/x-python",
   "name": "python",
   "nbconvert_exporter": "python",
   "pygments_lexer": "ipython3",
   "version": "3.8.8"
  }
 },
 "nbformat": 4,
 "nbformat_minor": 2
}
