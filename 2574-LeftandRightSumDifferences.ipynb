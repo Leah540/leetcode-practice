{
 "cells": [
  {
   "cell_type": "markdown",
   "metadata": {},
   "source": [
    "# [2574. Left and Right Sum Differences](https://leetcode.com/problems/left-and-right-sum-differences/description/)\n",
    "\n",
    "Given a **0-indexed** integer array `nums`, find a 0-indexed integer array `answer` where:\n",
    "\n",
    "- `answer.length == nums.length.`\n",
    "- `answer[i] = |leftSum[i] - rightSum[i]|.`\n",
    "\n",
    "\n",
    "Where:\n",
    "\n",
    "- `leftSum[i]` is the sum of elements to the left of the index `i` in the array `nums`. If there is no such element, `leftSum[i] = 0`.\n",
    "- `rightSum[i]` is the sum of elements to the right of the index `i` in the array nums. If there is no such element, `rightSum[i] = 0`.\n",
    "\n",
    "\n",
    "Return the *array* `answer`.\n",
    "\n",
    " \n",
    "\n",
    "**Example 1:**\n",
    "\n",
    "> **Input:** nums = [10,4,8,3] <br>\n",
    " **Output:** [15,1,11,22] <br>\n",
    " **Explanation:** The array leftSum is [0,10,14,22] and the array rightSum is [15,11,3,0].\n",
    " The array answer is [|0 - 15|,|10 - 11|,|14 - 3|,|22 - 0|] = [15,1,11,22].\n",
    "\n",
    "\n",
    "**Example 2:**\n",
    "\n",
    "> **Input:** nums = [1] <br>\n",
    " **Output:** [0] <br>\n",
    " **Explanation:** The array leftSum is [0] and the array rightSum is [0].\n",
    " The array answer is [|0 - 0|] = [0].\n",
    " \n",
    "\n",
    "**Constraints:**\n",
    "\n",
    "- `1 <= nums.length <= 1000`\n",
    "- `1 <= nums[i] <= 105`"
   ]
  },
  {
   "cell_type": "code",
   "execution_count": 1,
   "metadata": {},
   "outputs": [],
   "source": [
    "from typing import List"
   ]
  },
  {
   "cell_type": "code",
   "execution_count": 2,
   "metadata": {},
   "outputs": [],
   "source": [
    "class Solution:\n",
    "    def leftRightDifference(self, nums: List[int]) -> List[int]:\n",
    "        leftSum, rightSum = [], []\n",
    "        result = []\n",
    "        for i in range(len(nums)):\n",
    "            leftSum = sum(nums[:i])\n",
    "            rightSum = sum(nums[i+1:])\n",
    "            result.append(abs(leftSum-rightSum))\n",
    "\n",
    "        return result\n",
    "        "
   ]
  },
  {
   "cell_type": "code",
   "execution_count": 16,
   "metadata": {},
   "outputs": [],
   "source": [
    "class Solution:\n",
    "    def leftRightDifference(self, nums: List[int]) -> List[int]:\n",
    "        leftSum = 0\n",
    "        rightSum = sum(nums)\n",
    "        result = []\n",
    "        for i in range(len(nums)):\n",
    "            leftSum += nums[i]\n",
    "            result.append(abs(leftSum-rightSum))\n",
    "            rightSum -= nums[i]\n",
    "\n",
    "        return result\n",
    "        "
   ]
  },
  {
   "cell_type": "code",
   "execution_count": 17,
   "metadata": {},
   "outputs": [
    {
     "data": {
      "text/plain": [
       "[15, 1, 11, 22]"
      ]
     },
     "execution_count": 17,
     "metadata": {},
     "output_type": "execute_result"
    }
   ],
   "source": [
    "nums = [10,4,8,3]\n",
    "\n",
    "Solution().leftRightDifference(nums)"
   ]
  },
  {
   "cell_type": "code",
   "execution_count": 18,
   "metadata": {},
   "outputs": [
    {
     "data": {
      "text/plain": [
       "[0]"
      ]
     },
     "execution_count": 18,
     "metadata": {},
     "output_type": "execute_result"
    }
   ],
   "source": [
    "nums = [1]\n",
    "\n",
    "Solution().leftRightDifference(nums)"
   ]
  },
  {
   "cell_type": "code",
   "execution_count": null,
   "metadata": {},
   "outputs": [],
   "source": []
  }
 ],
 "metadata": {
  "kernelspec": {
   "display_name": "base",
   "language": "python",
   "name": "python3"
  },
  "language_info": {
   "codemirror_mode": {
    "name": "ipython",
    "version": 3
   },
   "file_extension": ".py",
   "mimetype": "text/x-python",
   "name": "python",
   "nbconvert_exporter": "python",
   "pygments_lexer": "ipython3",
   "version": "3.8.8"
  }
 },
 "nbformat": 4,
 "nbformat_minor": 2
}
