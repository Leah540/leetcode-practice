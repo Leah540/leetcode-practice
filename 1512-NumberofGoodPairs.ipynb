{
 "cells": [
  {
   "cell_type": "markdown",
   "metadata": {},
   "source": [
    "# [1512. Number of Good Pairs](https://leetcode.com/problems/number-of-good-pairs/description/)\n",
    "Given an array of integers `nums`, return the number of good pairs.\n",
    "\n",
    "A pair `(i, j)` is called good if `nums[i] == nums[j]` and `i` < `j`.\n",
    "\n",
    " \n",
    "\n",
    "**Example 1:**\n",
    "\n",
    "> **Input:** nums = [1,2,3,1,1,3] <br>\n",
    "> **Output:** 4 <br>\n",
    "> **Explanation:** There are 4 good pairs (0,3), (0,4), (3,4), (2,5) 0-indexed.\n",
    "\n",
    "\n",
    "**Example 2:**\n",
    "\n",
    "> **Input:** nums = [1,1,1,1]\n",
    "> **Output:** 6\n",
    "> **Explanation:** Each pair in the array are good.\n",
    "\n",
    "\n",
    "**Example 3:**\n",
    "\n",
    "> **Input:** nums = [1,2,3]\n",
    "> **Output:** 0\n",
    " \n",
    "\n",
    "**Constraints:**\n",
    "\n",
    "- `1 <= nums.length <= 100`\n",
    "- `1 <= nums[i] <= 100`"
   ]
  },
  {
   "cell_type": "markdown",
   "metadata": {},
   "source": [
    "$$ 1^{st} = 0 $$\n",
    "$$ 2^{nd} = \\frac{2!}{2!\\times0!} = 1 = 1 $$\n",
    "$$ 3^{rd} = \\frac{3!}{2!\\times1!} = 1+2 = 3 $$\n",
    "$$ 4^{th} = \\frac{4!}{2!\\times2!} = 1+2+3 = 6 $$\n",
    "$$ 5^{th} = \\frac{5!}{2!\\times3!} = 1+2+3+4 = 10 $$\n",
    "$$ \\vdots $$\n",
    "$$ n^{th} = \\frac{n!}{2!\\times(n-2)!} = 1+2+3+4+\\dots+(n-1) = \\sum_{k=1}^{n-1} k  $$"
   ]
  },
  {
   "cell_type": "code",
   "execution_count": 28,
   "metadata": {},
   "outputs": [],
   "source": [
    "class Solution(object):\n",
    "    def numIdenticalPairs(self, nums):\n",
    "        \"\"\"\n",
    "        :type nums: List[int]\n",
    "        :rtype: int\n",
    "        \"\"\"\n",
    "        result = {}\n",
    "        #pair = set()\n",
    "        count = 0\n",
    "        for i, j in enumerate(nums):\n",
    "            if j in result:\n",
    "                count += result[j]\n",
    "                result[j] += 1\n",
    "            else:\n",
    "                result[j] = 1\n",
    "                # pair.add((i, nums.index(j)))\n",
    "        return count #result"
   ]
  },
  {
   "cell_type": "code",
   "execution_count": 29,
   "metadata": {},
   "outputs": [
    {
     "data": {
      "text/plain": [
       "{1: 3, 2: 1, 3: 2}"
      ]
     },
     "execution_count": 29,
     "metadata": {},
     "output_type": "execute_result"
    }
   ],
   "source": [
    "nums = [1,2,3,1,1,3]\n",
    "Solution().numIdenticalPairs(nums)"
   ]
  },
  {
   "cell_type": "code",
   "execution_count": 30,
   "metadata": {},
   "outputs": [
    {
     "data": {
      "text/plain": [
       "{1: 4}"
      ]
     },
     "execution_count": 30,
     "metadata": {},
     "output_type": "execute_result"
    }
   ],
   "source": [
    "nums = [1,1,1,1]\n",
    "Solution().numIdenticalPairs(nums)"
   ]
  },
  {
   "cell_type": "code",
   "execution_count": 16,
   "metadata": {},
   "outputs": [
    {
     "data": {
      "text/plain": [
       "0"
      ]
     },
     "execution_count": 16,
     "metadata": {},
     "output_type": "execute_result"
    }
   ],
   "source": [
    "nums = [1,2,3]\n",
    "Solution().numIdenticalPairs(nums)"
   ]
  },
  {
   "cell_type": "code",
   "execution_count": null,
   "metadata": {},
   "outputs": [],
   "source": []
  }
 ],
 "metadata": {
  "kernelspec": {
   "display_name": "base",
   "language": "python",
   "name": "python3"
  },
  "language_info": {
   "codemirror_mode": {
    "name": "ipython",
    "version": 3
   },
   "file_extension": ".py",
   "mimetype": "text/x-python",
   "name": "python",
   "nbconvert_exporter": "python",
   "pygments_lexer": "ipython3",
   "version": "3.8.undefined"
  }
 },
 "nbformat": 4,
 "nbformat_minor": 2
}
