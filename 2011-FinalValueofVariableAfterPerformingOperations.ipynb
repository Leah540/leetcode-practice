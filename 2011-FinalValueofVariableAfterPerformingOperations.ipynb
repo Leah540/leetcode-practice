{
 "cells": [
  {
   "cell_type": "markdown",
   "metadata": {},
   "source": [
    "# [2011. Final Value of Variable After Performing Operations](https://leetcode.com/problems/final-value-of-variable-after-performing-operations/description/)\n",
    "\n",
    "There is a programming language with only four operations and one variable `X`:\n",
    "\n",
    "- `++X` and `X++` increments the value of the variable `X` by `1`.\n",
    "- `--X` and `X--` decrements the value of the variable `X` by `1`.\n",
    "Initially, the value of `X` is `0`.\n",
    "\n",
    "Given an array of strings `operations` containing a list of operations, return *the **final** value of* `X` *after performing all the operations.*\n",
    "\n",
    " \n",
    "\n",
    "**Example 1:**\n",
    "\n",
    "> **Input:** operations = [\"--X\",\"X++\",\"X++\"] <br>\n",
    "> **Output:** 1 <br>\n",
    " **Explanation:** The operations are performed as follows: <br>\n",
    " Initially, X = 0. <br>\n",
    " --X: X is decremented by 1, X =  0 - 1 = -1.<br>\n",
    " X++: X is incremented by 1, X = -1 + 1 =  0.<br>\n",
    " X++: X is incremented by 1, X =  0 + 1 =  1.\n",
    "\n",
    "\n",
    "**Example 2:**\n",
    "\n",
    "> **Input:** operations = [\"++X\",\"++X\",\"X++\"]<br>\n",
    " **Output:** 3<br>\n",
    " **Explanation:** The operations are performed as follows:<br>\n",
    " Initially, X = 0.<br>\n",
    " ++X: X is incremented by 1, X = 0 + 1 = 1.\n",
    " ++X: X is incremented by 1, X = 1 + 1 = 2.\n",
    " X++: X is incremented by 1, X = 2 + 1 = 3.\n",
    "\n",
    "\n",
    "**Example 3:**\n",
    "\n",
    "> **Input:** operations = [\"X++\",\"++X\",\"--X\",\"X--\"]<br>\n",
    " **Output:** 0<br>\n",
    " **Explanation:** The operations are performed as follows:<br>\n",
    " Initially, X = 0.<br>\n",
    " X++: X is incremented by 1, X = 0 + 1 = 1.<br>\n",
    " ++X: X is incremented by 1, X = 1 + 1 = 2.<br>\n",
    " --X: X is decremented by 1, X = 2 - 1 = 1.<br>\n",
    " X--: X is decremented by 1, X = 1 - 1 = 0.\n",
    " \n",
    "\n",
    "**Constraints:**\n",
    "\n",
    "- `1 <= operations.length <= 100`\n",
    "- `operations[i]` will be either `\"++X\"`, `\"X++\"`, `\"--X\"`, or `\"X--\"`."
   ]
  },
  {
   "cell_type": "code",
   "execution_count": 1,
   "metadata": {},
   "outputs": [],
   "source": [
    "class Solution(object):\n",
    "    def finalValueAfterOperations(self, operations):\n",
    "        \"\"\"\n",
    "        :type operations: List[str]\n",
    "        :rtype: int\n",
    "        \"\"\"\n",
    "        result = 0\n",
    "        for i in operations:\n",
    "            if '+' in i:\n",
    "                result += 1\n",
    "            else:\n",
    "                result -= 1\n",
    "        return result"
   ]
  },
  {
   "cell_type": "code",
   "execution_count": 2,
   "metadata": {},
   "outputs": [],
   "source": [
    "# With Dictionary and Generator\n",
    "class Solution(object):\n",
    "    def finalValueAfterOperations(self, operations):\n",
    "        \"\"\"\n",
    "        :type operations: List[str]\n",
    "        :rtype: int\n",
    "        \"\"\"\n",
    "        op_dict = {'+':1, '-':-1 }\n",
    "        return sum([op_dict[i[1]] for i in operations])"
   ]
  },
  {
   "cell_type": "code",
   "execution_count": 3,
   "metadata": {},
   "outputs": [
    {
     "data": {
      "text/plain": [
       "1"
      ]
     },
     "execution_count": 3,
     "metadata": {},
     "output_type": "execute_result"
    }
   ],
   "source": [
    "operations = [\"--X\",\"X++\",\"X++\"]\n",
    "Solution().finalValueAfterOperations(operations)"
   ]
  },
  {
   "cell_type": "code",
   "execution_count": 4,
   "metadata": {},
   "outputs": [
    {
     "data": {
      "text/plain": [
       "3"
      ]
     },
     "execution_count": 4,
     "metadata": {},
     "output_type": "execute_result"
    }
   ],
   "source": [
    "operations = [\"++X\",\"++X\",\"X++\"]\n",
    "Solution().finalValueAfterOperations(operations)"
   ]
  },
  {
   "cell_type": "code",
   "execution_count": 5,
   "metadata": {},
   "outputs": [
    {
     "data": {
      "text/plain": [
       "0"
      ]
     },
     "execution_count": 5,
     "metadata": {},
     "output_type": "execute_result"
    }
   ],
   "source": [
    "operations = [\"X++\",\"++X\",\"--X\",\"X--\"]\n",
    "Solution().finalValueAfterOperations(operations)"
   ]
  },
  {
   "cell_type": "code",
   "execution_count": null,
   "metadata": {},
   "outputs": [],
   "source": []
  }
 ],
 "metadata": {
  "kernelspec": {
   "display_name": "base",
   "language": "python",
   "name": "python3"
  },
  "language_info": {
   "codemirror_mode": {
    "name": "ipython",
    "version": 3
   },
   "file_extension": ".py",
   "mimetype": "text/x-python",
   "name": "python",
   "nbconvert_exporter": "python",
   "pygments_lexer": "ipython3",
   "version": "3.8.-1"
  }
 },
 "nbformat": 4,
 "nbformat_minor": 2
}
