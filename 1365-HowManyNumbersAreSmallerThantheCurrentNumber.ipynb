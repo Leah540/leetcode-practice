{
 "cells": [
  {
   "cell_type": "markdown",
   "metadata": {},
   "source": [
    "# [1365. How Many Numbers Are Smaller Than the Current Number](https://leetcode.com/problems/how-many-numbers-are-smaller-than-the-current-number/description/)\n",
    "\n",
    "Given the array `nums`, for each `nums[i]` find out how many numbers in the array are smaller than it. That is, for each `nums[i]` you have to count the number of valid `j's` such that `j != i` and `nums[j] < nums[i]`.\n",
    "\n",
    "Return the answer in an array.\n",
    "\n",
    " \n",
    "\n",
    "**Example 1:**\n",
    "\n",
    "> **Input:** nums = [8,1,2,2,3] <br>\n",
    " **Output:** [4,0,1,1,3]<br>\n",
    " **Explanation:** <br>\n",
    " For nums[0]=8 there exist four smaller numbers than it (1, 2, 2 and 3). <br>\n",
    " For nums[1]=1 does not exist any smaller number than it.<br>\n",
    " For nums[2]=2 there exist one smaller number than it (1). <br>\n",
    " For nums[3]=2 there exist one smaller number than it (1). <br>\n",
    " For nums[4]=3 there exist three smaller numbers than it (1, 2 and 2).<br>\n",
    "\n",
    "\n",
    "**Example 2:**\n",
    "\n",
    "> **Input:** nums = [6,5,4,8]<br>\n",
    " **Output:** [2,1,0,3]\n",
    " \n",
    " \n",
    "**Example 3:**\n",
    "\n",
    "> **Input:** nums = [7,7,7,7]<br>\n",
    " **Output:** [0,0,0,0]\n",
    " \n",
    "\n",
    "**Constraints:**\n",
    "\n",
    "- `2 <= nums.length <= 500`\n",
    "- `0 <= nums[i] <= 100`"
   ]
  },
  {
   "cell_type": "code",
   "execution_count": 2,
   "metadata": {},
   "outputs": [],
   "source": [
    "from typing import List"
   ]
  },
  {
   "cell_type": "code",
   "execution_count": 11,
   "metadata": {},
   "outputs": [],
   "source": [
    "class Solution:\n",
    "    def smallerNumbersThanCurrent(self, nums: List[int]) -> List[int]:\n",
    "        sorted_nums = sorted(nums)\n",
    "        result = {}\n",
    "        for i, num in enumerate(sorted_nums):\n",
    "            if num not in result:\n",
    "                result[num] = i\n",
    "        return [result[i] for i in nums]\n"
   ]
  },
  {
   "cell_type": "code",
   "execution_count": 12,
   "metadata": {},
   "outputs": [
    {
     "data": {
      "text/plain": [
       "[4, 0, 1, 1, 3]"
      ]
     },
     "execution_count": 12,
     "metadata": {},
     "output_type": "execute_result"
    }
   ],
   "source": [
    "nums = [8,1,2,2,3]\n",
    "\n",
    "Solution().smallerNumbersThanCurrent(nums)"
   ]
  },
  {
   "cell_type": "code",
   "execution_count": 13,
   "metadata": {},
   "outputs": [
    {
     "data": {
      "text/plain": [
       "[2, 1, 0, 3]"
      ]
     },
     "execution_count": 13,
     "metadata": {},
     "output_type": "execute_result"
    }
   ],
   "source": [
    "nums = [6,5,4,8]\n",
    "\n",
    "Solution().smallerNumbersThanCurrent(nums)"
   ]
  },
  {
   "cell_type": "code",
   "execution_count": 14,
   "metadata": {},
   "outputs": [
    {
     "data": {
      "text/plain": [
       "[0, 0, 0, 0]"
      ]
     },
     "execution_count": 14,
     "metadata": {},
     "output_type": "execute_result"
    }
   ],
   "source": [
    "nums = [7,7,7,7]\n",
    "\n",
    "Solution().smallerNumbersThanCurrent(nums)"
   ]
  },
  {
   "cell_type": "code",
   "execution_count": null,
   "metadata": {},
   "outputs": [],
   "source": []
  }
 ],
 "metadata": {
  "kernelspec": {
   "display_name": "base",
   "language": "python",
   "name": "python3"
  },
  "language_info": {
   "codemirror_mode": {
    "name": "ipython",
    "version": 3
   },
   "file_extension": ".py",
   "mimetype": "text/x-python",
   "name": "python",
   "nbconvert_exporter": "python",
   "pygments_lexer": "ipython3",
   "version": "3.8.8"
  }
 },
 "nbformat": 4,
 "nbformat_minor": 2
}
