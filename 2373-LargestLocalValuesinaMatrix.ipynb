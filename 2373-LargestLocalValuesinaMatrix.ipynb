{
 "cells": [
  {
   "cell_type": "markdown",
   "metadata": {},
   "source": [
    "# [2373. Largest Local Values in a Matrix](https://leetcode.com/problems/largest-local-values-in-a-matrix/description/)\n",
    "\n",
    "You are given an `n x n` integer matrix `grid`.\n",
    "\n",
    "Generate an integer matrix `maxLocal` of size `(n - 2) x (n - 2)` such that:\n",
    "\n",
    "- `maxLocal[i][j]` is equal to the largest value of the `3 x 3` matrix in `grid` centered around row `i + 1` and column `j + 1`.\n",
    "\n",
    "In other words, we want to find the largest value in every contiguous `3 x 3` matrix in `grid`.\n",
    "\n",
    "Return *the generated matrix*.\n",
    "\n",
    " \n",
    "\n",
    "**Example 1:**\n",
    "\n",
    "\n",
    "<img src=\"https://assets.leetcode.com/uploads/2022/06/21/ex1.png\" alt=\"Example 1\" width=\"400\"/>\n",
    "\n",
    "> **Input:** grid = [[9,9,8,1],[5,6,2,6],[8,2,6,4],[6,2,2,2]] <br>\n",
    " **Output:** [[9,9],[8,6]] <br>\n",
    " **Explanation:** The diagram above shows the original matrix and the generated matrix.<br>\n",
    " Notice that each value in the generated matrix corresponds to the largest value of a contiguous 3 x 3 matrix in grid.\n",
    "\n",
    "\n",
    "**Example 2:**\n",
    "\n",
    "\n",
    "<img src=\"https://assets.leetcode.com/uploads/2022/07/02/ex2new2.png\" alt=\"Example 2\" width=\"400\"/>\n",
    "\n",
    "> **Input:** grid = [[1,1,1,1,1],[1,1,1,1,1],[1,1,2,1,1],[1,1,1,1,1],[1,1,1,1,1]]<br>\n",
    " **Output:** [[2,2,2],[2,2,2],[2,2,2]]<br>\n",
    " **Explanation:** Notice that the 2 is contained within every contiguous 3 x 3 matrix in grid.\n",
    " \n",
    "\n",
    "**Constraints:**\n",
    "\n",
    "- n == grid.length == grid[i].length\n",
    "- 3 <= n <= 100\n",
    "- 1 <= grid[i][j] <= 100"
   ]
  },
  {
   "cell_type": "code",
   "execution_count": 1,
   "metadata": {},
   "outputs": [],
   "source": [
    "class Solution(object):\n",
    "    def largestLocal(self, grid):\n",
    "        \"\"\"\n",
    "        :type grid: List[List[int]]\n",
    "        :rtype: List[List[int]]\n",
    "        \"\"\""
   ]
  },
  {
   "cell_type": "code",
   "execution_count": 2,
   "metadata": {},
   "outputs": [],
   "source": [
    "# With Dictionary and Generator\n",
    "class Solution(object):\n",
    "    def finalValueAfterOperations(self, operations):\n",
    "        \"\"\"\n",
    "        :type operations: List[str]\n",
    "        :rtype: int\n",
    "        \"\"\"\n",
    "        op_dict = {'+':1, '-':-1 }\n",
    "        return sum([op_dict[i[1]] for i in operations])"
   ]
  },
  {
   "cell_type": "code",
   "execution_count": 3,
   "metadata": {},
   "outputs": [
    {
     "data": {
      "text/plain": [
       "1"
      ]
     },
     "execution_count": 3,
     "metadata": {},
     "output_type": "execute_result"
    }
   ],
   "source": [
    "grid = [[9,9,8,1],[5,6,2,6],[8,2,6,4],[6,2,2,2]]\n",
    "Solution().largestLocal(grid)"
   ]
  },
  {
   "cell_type": "code",
   "execution_count": 4,
   "metadata": {},
   "outputs": [
    {
     "data": {
      "text/plain": [
       "3"
      ]
     },
     "execution_count": 4,
     "metadata": {},
     "output_type": "execute_result"
    }
   ],
   "source": [
    "grid = [[1,1,1,1,1],[1,1,1,1,1],[1,1,2,1,1],[1,1,1,1,1],[1,1,1,1,1]]\n",
    "Solution().largestLocal(grid)"
   ]
  },
  {
   "cell_type": "code",
   "execution_count": null,
   "metadata": {},
   "outputs": [],
   "source": []
  }
 ],
 "metadata": {
  "kernelspec": {
   "display_name": "base",
   "language": "python",
   "name": "python3"
  },
  "language_info": {
   "codemirror_mode": {
    "name": "ipython",
    "version": 3
   },
   "file_extension": ".py",
   "mimetype": "text/x-python",
   "name": "python",
   "nbconvert_exporter": "python",
   "pygments_lexer": "ipython3",
   "version": "3.8.-1"
  }
 },
 "nbformat": 4,
 "nbformat_minor": 2
}
