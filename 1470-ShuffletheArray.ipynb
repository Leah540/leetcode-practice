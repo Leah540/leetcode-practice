{
 "cells": [
  {
   "cell_type": "markdown",
   "metadata": {},
   "source": [
    "# [1470. Shuffle the Array](https://leetcode.com/problems/shuffle-the-array/description/)\n",
    "\n",
    "Given the array `nums` consisting of `2n` elements in the form `[x1,x2,...,xn,y1,y2,...,yn]`.\n",
    "\n",
    "*Return the array in the form* `[x1,y1,x2,y2,...,xn,yn]`.\n",
    "\n",
    " \n",
    "\n",
    "**Example 1:**\n",
    "\n",
    "> **Input:** nums = [2,5,1,3,4,7], n = 3 <br>\n",
    " **Output:** [2,3,5,4,1,7] <br>\n",
    " **Explanation:** Since x1=2, x2=5, x3=1, y1=3, y2=4, y3=7 then the answer is [2,3,5,4,1,7].\n",
    "\n",
    "\n",
    "**Example 2:**\n",
    "\n",
    "> **Input:** nums = [1,2,3,4,4,3,2,1], n = 4<br>\n",
    " **Output:** [1,4,2,3,3,2,4,1]\n",
    "\n",
    "\n",
    "**Example 3:**\n",
    "\n",
    "> **Input:** nums = [1,1,2,2], n = 2<br>\n",
    " **Output:** [1,2,1,2]\n",
    " \n",
    "\n",
    "**Constraints:**\n",
    "\n",
    "- `1 <= n <= 500`\n",
    "- `nums.length == 2n`\n",
    "- `1 <= nums[i] <= 10^3`"
   ]
  },
  {
   "cell_type": "code",
   "execution_count": 1,
   "metadata": {},
   "outputs": [],
   "source": [
    "class Solution(object):\n",
    "    def shuffle(self, nums, n):\n",
    "        \"\"\"\n",
    "        :type nums: List[int]\n",
    "        :type n: int\n",
    "        :rtype: List[int]\n",
    "        \"\"\"\n",
    "        result = []\n",
    "        for i in range(n):\n",
    "            result.append(nums[i])\n",
    "            result.append(nums[i+n])\n",
    "        return result"
   ]
  },
  {
   "cell_type": "code",
   "execution_count": 2,
   "metadata": {},
   "outputs": [
    {
     "data": {
      "text/plain": [
       "[2, 3, 5, 4, 1, 7]"
      ]
     },
     "execution_count": 2,
     "metadata": {},
     "output_type": "execute_result"
    }
   ],
   "source": [
    "nums = [2,5,1,3,4,7]\n",
    "n = 3\n",
    "Solution().shuffle(nums, n)"
   ]
  },
  {
   "cell_type": "code",
   "execution_count": 3,
   "metadata": {},
   "outputs": [
    {
     "data": {
      "text/plain": [
       "[1, 4, 2, 3, 3, 2, 4, 1]"
      ]
     },
     "execution_count": 3,
     "metadata": {},
     "output_type": "execute_result"
    }
   ],
   "source": [
    "nums = [1,2,3,4,4,3,2,1]\n",
    "n = 4\n",
    "Solution().shuffle(nums, n)"
   ]
  },
  {
   "cell_type": "code",
   "execution_count": 4,
   "metadata": {},
   "outputs": [
    {
     "data": {
      "text/plain": [
       "[1, 3, 2, 4]"
      ]
     },
     "execution_count": 4,
     "metadata": {},
     "output_type": "execute_result"
    }
   ],
   "source": [
    "ums = [1,1,2,2]\n",
    "n = 2\n",
    "Solution().shuffle(nums, n)"
   ]
  },
  {
   "cell_type": "code",
   "execution_count": null,
   "metadata": {},
   "outputs": [],
   "source": []
  }
 ],
 "metadata": {
  "kernelspec": {
   "display_name": "base",
   "language": "python",
   "name": "python3"
  },
  "language_info": {
   "codemirror_mode": {
    "name": "ipython",
    "version": 3
   },
   "file_extension": ".py",
   "mimetype": "text/x-python",
   "name": "python",
   "nbconvert_exporter": "python",
   "pygments_lexer": "ipython3",
   "version": "3.8.8"
  }
 },
 "nbformat": 4,
 "nbformat_minor": 2
}
