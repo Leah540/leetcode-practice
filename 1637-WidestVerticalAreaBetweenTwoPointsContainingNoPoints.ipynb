{
 "cells": [
  {
   "cell_type": "markdown",
   "metadata": {},
   "source": [
    "# [1637. Widest Vertical Area Between Two Points Containing No Points](https://leetcode.com/problems/widest-vertical-area-between-two-points-containing-no-points/description/)\n",
    "\n",
    "Given `n` `points` on a 2D plane where `points[i] = [xi, yi]`, Return *the **widest vertical area** between two points such that no points are inside the area*.\n",
    "\n",
    "A **vertical area** is an area of fixed-width extending infinitely along the y-axis (i.e., infinite height). The **widest vertical area** is the one with the maximum width.\n",
    "\n",
    "Note that points **on the edge** of a vertical area **are not** considered included in the area.\n",
    "\n",
    " \n",
    "\n",
    "**Example 1:**\n",
    "\n",
    "<img src=\"https://assets.leetcode.com/uploads/2020/09/19/points3.png\" alt=\"Example 1\" width=\"200\"/>\n",
    "​\n",
    "\n",
    "\n",
    "> **Input:** points = [[8,7],[9,9],[7,4],[9,7]] <br>\n",
    " **Output:** 1 <br>\n",
    " **Explanation:** Both the red and the blue area are optimal.\n",
    "\n",
    "\n",
    "**Example 2:**\n",
    "\n",
    "> **Input:** points = [[3,1],[9,0],[1,0],[1,4],[5,3],[8,8]] <br>\n",
    " **Output:** 3\n",
    " \n",
    "\n",
    "**Constraints:**\n",
    "\n",
    "- `n == points.length`\n",
    "- `2 <= n <= 105`\n",
    "- `points[i].length == 2\n",
    "0 <= xi, yi <= 109`"
   ]
  },
  {
   "cell_type": "code",
   "execution_count": 1,
   "metadata": {},
   "outputs": [],
   "source": [
    "from typing import List"
   ]
  },
  {
   "cell_type": "code",
   "execution_count": 5,
   "metadata": {},
   "outputs": [],
   "source": [
    "class Solution:\n",
    "    def maxWidthOfVerticalArea(self, points: List[List[int]]) -> int:\n",
    "        points.sort()\n",
    "        max_width = 0\n",
    "        for i in range(len(points)-1):\n",
    "            max_width = max(max_width, (points[i+1][0]-points[i][0]))\n",
    "        return max_width"
   ]
  },
  {
   "cell_type": "code",
   "execution_count": 6,
   "metadata": {},
   "outputs": [
    {
     "data": {
      "text/plain": [
       "1"
      ]
     },
     "execution_count": 6,
     "metadata": {},
     "output_type": "execute_result"
    }
   ],
   "source": [
    "points = [[8,7],[9,9],[7,4],[9,7]]\n",
    "\n",
    "Solution().maxWidthOfVerticalArea(points)"
   ]
  },
  {
   "cell_type": "code",
   "execution_count": 7,
   "metadata": {},
   "outputs": [
    {
     "data": {
      "text/plain": [
       "3"
      ]
     },
     "execution_count": 7,
     "metadata": {},
     "output_type": "execute_result"
    }
   ],
   "source": [
    "points = [[3,1],[9,0],[1,0],[1,4],[5,3],[8,8]]\n",
    "\n",
    "Solution().maxWidthOfVerticalArea(points)"
   ]
  },
  {
   "cell_type": "code",
   "execution_count": null,
   "metadata": {},
   "outputs": [],
   "source": []
  }
 ],
 "metadata": {
  "kernelspec": {
   "display_name": "base",
   "language": "python",
   "name": "python3"
  },
  "language_info": {
   "codemirror_mode": {
    "name": "ipython",
    "version": 3
   },
   "file_extension": ".py",
   "mimetype": "text/x-python",
   "name": "python",
   "nbconvert_exporter": "python",
   "pygments_lexer": "ipython3",
   "version": "3.8.8"
  }
 },
 "nbformat": 4,
 "nbformat_minor": 2
}
