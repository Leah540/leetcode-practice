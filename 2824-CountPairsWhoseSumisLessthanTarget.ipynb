{
 "cells": [
  {
   "cell_type": "markdown",
   "metadata": {},
   "source": [
    "# [2824. Count Pairs Whose Sum is Less than Target](https://leetcode.com/problems/count-pairs-whose-sum-is-less-than-target/description/)\n",
    "\n",
    "Given a **0-indexed** integer array `nums` of length `n` and an integer `target`, return *the number of pairs* `(i, j)` where `0 <= i < j < n` *and* `nums[i] + nums[j] < target`.\n",
    " \n",
    "\n",
    "**Example 1:**\n",
    "\n",
    "> **Input:** nums = [-1,1,2,3,1], target = 2 <br>\n",
    " **Output:** 3 <br>\n",
    " **Explanation:** There are 3 pairs of indices that satisfy the conditions in the statement:\n",
    "> - (0, 1) since 0 < 1 and nums[0] + nums[1] = 0 < target\n",
    "> - (0, 2) since 0 < 2 and nums[0] + nums[2] = 1 < target \n",
    "> - (0, 4) since 0 < 4 and nums[0] + nums[4] = 0 < target\n",
    " Note that (0, 3) is not counted since nums[0] + nums[3] is not strictly less than the target.\n",
    "\n",
    "\n",
    "**Example 2:**\n",
    "\n",
    "> **Input:** nums = [-6,2,5,-2,-7,-1,3], target = -2 <br>\n",
    " **Output:** 10 <br>\n",
    " **Explanation:** There are 10 pairs of indices that satisfy the conditions in the statement:\n",
    "> - (0, 1) since 0 < 1 and nums[0] + nums[1] = -4 < target\n",
    "> - (0, 3) since 0 < 3 and nums[0] + nums[3] = -8 < target\n",
    "> - (0, 4) since 0 < 4 and nums[0] + nums[4] = -13 < target\n",
    "> - (0, 5) since 0 < 5 and nums[0] + nums[5] = -7 < target\n",
    "> - (0, 6) since 0 < 6 and nums[0] + nums[6] = -3 < target\n",
    "> - (1, 4) since 1 < 4 and nums[1] + nums[4] = -5 < target\n",
    "> - (3, 4) since 3 < 4 and nums[3] + nums[4] = -9 < target\n",
    "> - (3, 5) since 3 < 5 and nums[3] + nums[5] = -3 < target\n",
    "> - (4, 5) since 4 < 5 and nums[4] + nums[5] = -8 < target\n",
    "> - (4, 6) since 4 < 6 and nums[4] + nums[6] = -4 < target\n",
    " \n",
    "\n",
    "**Constraints:**\n",
    "\n",
    "- 1 <= nums.length == n <= 50\n",
    "- -50 <= nums[i], target <= 50"
   ]
  },
  {
   "cell_type": "code",
   "execution_count": 1,
   "metadata": {},
   "outputs": [],
   "source": [
    "from typing import List"
   ]
  },
  {
   "cell_type": "code",
   "execution_count": 2,
   "metadata": {},
   "outputs": [],
   "source": [
    "class Solution:\n",
    "    def countPairs(self, nums: List[int], target: int) -> int:\n",
    "        count = 0\n",
    "        for i in range(len(nums)):\n",
    "            for j in range(len(nums)):\n",
    "                if i<j:\n",
    "                    if nums[i]+nums[j]<target:\n",
    "                        count += 1\n",
    "                else:\n",
    "                    pass\n",
    "        return count"
   ]
  },
  {
   "cell_type": "code",
   "execution_count": 3,
   "metadata": {},
   "outputs": [
    {
     "data": {
      "text/plain": [
       "3"
      ]
     },
     "execution_count": 3,
     "metadata": {},
     "output_type": "execute_result"
    }
   ],
   "source": [
    "nums = [-1,1,2,3,1]\n",
    "target = 2\n",
    "\n",
    "Solution().countPairs(nums, target)"
   ]
  },
  {
   "cell_type": "code",
   "execution_count": 4,
   "metadata": {},
   "outputs": [
    {
     "data": {
      "text/plain": [
       "10"
      ]
     },
     "execution_count": 4,
     "metadata": {},
     "output_type": "execute_result"
    }
   ],
   "source": [
    "nums = [-6,2,5,-2,-7,-1,3]\n",
    "target = -2\n",
    "\n",
    "Solution().countPairs(nums, target)"
   ]
  },
  {
   "cell_type": "code",
   "execution_count": null,
   "metadata": {},
   "outputs": [],
   "source": []
  }
 ],
 "metadata": {
  "kernelspec": {
   "display_name": "base",
   "language": "python",
   "name": "python3"
  },
  "language_info": {
   "codemirror_mode": {
    "name": "ipython",
    "version": 3
   },
   "file_extension": ".py",
   "mimetype": "text/x-python",
   "name": "python",
   "nbconvert_exporter": "python",
   "pygments_lexer": "ipython3",
   "version": "3.8.8"
  }
 },
 "nbformat": 4,
 "nbformat_minor": 2
}
