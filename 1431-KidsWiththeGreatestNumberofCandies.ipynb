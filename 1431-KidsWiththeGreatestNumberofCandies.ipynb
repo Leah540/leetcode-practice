{
 "cells": [
  {
   "cell_type": "markdown",
   "metadata": {},
   "source": [
    "# [1431. Kids With the Greatest Number of Candies](https://leetcode.com/problems/kids-with-the-greatest-number-of-candies/description/)\n",
    "\n",
    "There are `n` kids with candies. You are given an integer array `candies`, where each `candies[i]` represents the number of candies the `ith` kid has, and an integer `extraCandies`, denoting the number of extra candies that you have.\n",
    "\n",
    "Return *a boolean array* `result` of *length* `n`, *where* `result[i]` *is* `true` *if, after giving the* `ith` *kid all the* `extraCandies`*, they will have the greatest number of candies among all the kids, or *`false` *otherwise*.\n",
    "\n",
    "Note that **multiple** kids can have the **greatest** number of candies.\n",
    "\n",
    " \n",
    "\n",
    "**Example 1:**\n",
    "\n",
    "> **Input:** candies = [2,3,5,1,3], extraCandies = 3 <br>\n",
    " **Output:** [true,true,true,false,true] <br>\n",
    " **Explanation:** If you give all extraCandies to:\n",
    " - Kid 1, they will have 2 + 3 = 5 candies, which is the greatest among the kids.\n",
    " - Kid 2, they will have 3 + 3 = 6 candies, which is the greatest among the kids.\n",
    " - Kid 3, they will have 5 + 3 = 8 candies, which is the greatest among the kids.\n",
    " - Kid 4, they will have 1 + 3 = 4 candies, which is not the greatest among the kids.\n",
    " - Kid 5, they will have 3 + 3 = 6 candies, which is the greatest among the kids.\n",
    "\n",
    "\n",
    "**Example 2:**\n",
    "\n",
    "> **Input:** candies = [4,2,1,1,2], extraCandies = 1<br>\n",
    " **Output:** [true,false,false,false,false] <br>\n",
    " **Explanation:** There is only 1 extra candy.\n",
    " Kid 1 will always have the greatest number of candies, even if a different kid is given the extra candy.\n",
    "\n",
    "\n",
    "**Example 3:**\n",
    "\n",
    "> **Input:** candies = [12,1,12], extraCandies = 10<br>\n",
    "> **Output:** [true,false,true]\n",
    " \n",
    "\n",
    "**Constraints:**\n",
    "\n",
    "- `n == candies.length`\n",
    "- `2 <= n <= 100`\n",
    "- `1 <= candies[i] <= 100`\n",
    "- `1 <= extraCandies <= 50`"
   ]
  },
  {
   "cell_type": "code",
   "execution_count": 1,
   "metadata": {},
   "outputs": [],
   "source": [
    "from typing import List"
   ]
  },
  {
   "cell_type": "code",
   "execution_count": 2,
   "metadata": {},
   "outputs": [],
   "source": [
    "class Solution:\n",
    "    def kidsWithCandies(self, candies: List[int], extraCandies: int) -> List[bool]:\n",
    "        result = []\n",
    "        for candy in candies:\n",
    "            if candy+extraCandies>=max(candies):\n",
    "                result.append(True)\n",
    "            else:\n",
    "                result.append(False)\n",
    "        return result"
   ]
  },
  {
   "cell_type": "code",
   "execution_count": 3,
   "metadata": {},
   "outputs": [
    {
     "data": {
      "text/plain": [
       "[True, True, True, False, True]"
      ]
     },
     "execution_count": 3,
     "metadata": {},
     "output_type": "execute_result"
    }
   ],
   "source": [
    "candies = [2,3,5,1,3]\n",
    "extraCandies = 3\n",
    "\n",
    "Solution().kidsWithCandies(candies, extraCandies)"
   ]
  },
  {
   "cell_type": "code",
   "execution_count": 4,
   "metadata": {},
   "outputs": [
    {
     "data": {
      "text/plain": [
       "[True, False, False, False, False]"
      ]
     },
     "execution_count": 4,
     "metadata": {},
     "output_type": "execute_result"
    }
   ],
   "source": [
    "candies = [4,2,1,1,2]\n",
    "extraCandies = 1\n",
    "\n",
    "Solution().kidsWithCandies(candies, extraCandies)"
   ]
  },
  {
   "cell_type": "code",
   "execution_count": 5,
   "metadata": {},
   "outputs": [
    {
     "data": {
      "text/plain": [
       "[True, False, True]"
      ]
     },
     "execution_count": 5,
     "metadata": {},
     "output_type": "execute_result"
    }
   ],
   "source": [
    "candies = [12,1,12]\n",
    "extraCandies = 10\n",
    "\n",
    "Solution().kidsWithCandies(candies, extraCandies)"
   ]
  },
  {
   "cell_type": "code",
   "execution_count": null,
   "metadata": {},
   "outputs": [],
   "source": []
  }
 ],
 "metadata": {
  "kernelspec": {
   "display_name": "base",
   "language": "python",
   "name": "python3"
  },
  "language_info": {
   "codemirror_mode": {
    "name": "ipython",
    "version": 3
   },
   "file_extension": ".py",
   "mimetype": "text/x-python",
   "name": "python",
   "nbconvert_exporter": "python",
   "pygments_lexer": "ipython3",
   "version": "3.8.8"
  }
 },
 "nbformat": 4,
 "nbformat_minor": 2
}
