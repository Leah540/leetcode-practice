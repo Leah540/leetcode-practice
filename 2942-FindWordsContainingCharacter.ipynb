{
 "cells": [
  {
   "cell_type": "markdown",
   "metadata": {},
   "source": [
    "# [2942. Find Words Containing Character](https://leetcode.com/problems/find-words-containing-character/description/)\n",
    "\n",
    "You are given a **0-indexed** array of strings `words` and a character `x`.\n",
    "\n",
    "Return an **array of indices** *representing the words that contain the character* `x`.\n",
    "\n",
    "**Note** that the returned array may be in **any** order.\n",
    "\n",
    " \n",
    "\n",
    "**Example 1:**\n",
    "\n",
    "> **Input:** words = [\"leet\",\"code\"], x = \"e\" <br>\n",
    " **Output:** [0,1] <br>\n",
    " **Explanation:** \"e\" occurs in both words: \"l<u>ee</u>t\", and \"cod<u>e</u>\". Hence, we return indices 0 and 1.\n",
    "\n",
    "\n",
    "**Example 2:**\n",
    "\n",
    "> **Input:** words = [\"abc\",\"bcd\",\"aaaa\",\"cbc\"], x = \"a\" <br>\n",
    " **Output:** [0,2] <br>\n",
    " **Explanation:** \"a\" occurs in \"<u>a</u>bc\", and \"<u>aaaa</u>\". Hence, we return indices 0 and 2.\n",
    "\n",
    "\n",
    "**Example 3:**\n",
    "\n",
    "**Input:** words = [\"abc\",\"bcd\",\"aaaa\",\"cbc\"], x = \"z\"\n",
    "**Output:** []\n",
    "**Explanation:** \"z\" does not occur in any of the words. Hence, we return an empty array.\n",
    " \n",
    "\n",
    "**Constraints:**\n",
    "\n",
    "- `1 <= words.length <= 50`\n",
    "- `1 <= words[i].length <= 50`\n",
    "- `x` is a lowercase English letter.\n",
    "- `words[i]` consists only of lowercase English letters."
   ]
  },
  {
   "cell_type": "code",
   "execution_count": 1,
   "metadata": {},
   "outputs": [],
   "source": [
    "class Solution(object):\n",
    "    def findWordsContaining(self, words, x):\n",
    "        \"\"\"\n",
    "        :type words: List[str]\n",
    "        :type x: str\n",
    "        :rtype: List[int]\n",
    "        \"\"\"\n",
    "        result = []\n",
    "        for i in range(len(words)):\n",
    "            if x in words[i]:\n",
    "                result.append(i)\n",
    "        return result\n",
    "        # return [i.count(x) for i in words]"
   ]
  },
  {
   "cell_type": "code",
   "execution_count": 2,
   "metadata": {},
   "outputs": [
    {
     "data": {
      "text/plain": [
       "[0, 1]"
      ]
     },
     "execution_count": 2,
     "metadata": {},
     "output_type": "execute_result"
    }
   ],
   "source": [
    "words = [\"leet\",\"code\"]\n",
    "x = \"e\"\n",
    "Solution().findWordsContaining(words, x)"
   ]
  },
  {
   "cell_type": "code",
   "execution_count": 3,
   "metadata": {},
   "outputs": [
    {
     "data": {
      "text/plain": [
       "[0, 2]"
      ]
     },
     "execution_count": 3,
     "metadata": {},
     "output_type": "execute_result"
    }
   ],
   "source": [
    "words = [\"abc\",\"bcd\",\"aaaa\",\"cbc\"]\n",
    "x = \"a\"\n",
    "Solution().findWordsContaining(words, x)"
   ]
  },
  {
   "cell_type": "code",
   "execution_count": 5,
   "metadata": {},
   "outputs": [
    {
     "data": {
      "text/plain": [
       "[]"
      ]
     },
     "execution_count": 5,
     "metadata": {},
     "output_type": "execute_result"
    }
   ],
   "source": [
    "words = [\"abc\",\"bcd\",\"aaaa\",\"cbc\"]\n",
    "x = \"z\"\n",
    "Solution().findWordsContaining(words, x)"
   ]
  },
  {
   "cell_type": "code",
   "execution_count": null,
   "metadata": {},
   "outputs": [],
   "source": []
  }
 ],
 "metadata": {
  "kernelspec": {
   "display_name": "base",
   "language": "python",
   "name": "python3"
  },
  "language_info": {
   "codemirror_mode": {
    "name": "ipython",
    "version": 3
   },
   "file_extension": ".py",
   "mimetype": "text/x-python",
   "name": "python",
   "nbconvert_exporter": "python",
   "pygments_lexer": "ipython3",
   "version": "3.8.8"
  }
 },
 "nbformat": 4,
 "nbformat_minor": 2
}
